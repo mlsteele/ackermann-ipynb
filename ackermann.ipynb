{
 "cells": [
  {
   "cell_type": "code",
   "execution_count": 1,
   "metadata": {
    "collapsed": false
   },
   "outputs": [],
   "source": [
    "\"\"\"\n",
    "Ackermann Path Generation Tools\n",
    "\n",
    "Contains functions to make it easy to plan paths of an Ackermann-steering car.\n",
    "Ackermann-steering cars travel in a circle when set to a constant steering angle.\n",
    "\"\"\"\n",
    "\n",
    "import numpy as np\n",
    "import collections\n",
    "\n",
    "DEFAULT_WHEEL_BASE = 0.325"
   ]
  },
  {
   "cell_type": "code",
   "execution_count": 2,
   "metadata": {
    "collapsed": false
   },
   "outputs": [
    {
     "data": {
      "application/javascript": [
       "// Ctrl+Enter shall not lose focus.\n",
       "IPython.keyboard_manager.edit_shortcuts.add_shortcut('ctrl-enter', {\n",
       "    help : \"run cell and keep focus\",\n",
       "    handler : function (event) {\n",
       "        IPython.notebook.execute_cell();\n",
       "        IPython.notebook.edit_mode();\n",
       "        return false;\n",
       "    }}\n",
       ");"
      ],
      "text/plain": [
       "<IPython.core.display.Javascript object>"
      ]
     },
     "metadata": {},
     "output_type": "display_data"
    }
   ],
   "source": [
    "%%javascript\n",
    "// Ctrl+Enter shall not lose focus.\n",
    "IPython.keyboard_manager.edit_shortcuts.add_shortcut('ctrl-enter', {\n",
    "    help : \"run cell and keep focus\",\n",
    "    handler : function (event) {\n",
    "        IPython.notebook.execute_cell();\n",
    "        IPython.notebook.edit_mode();\n",
    "        return false;\n",
    "    }}\n",
    ");"
   ]
  },
  {
   "cell_type": "code",
   "execution_count": 3,
   "metadata": {
    "collapsed": true
   },
   "outputs": [],
   "source": [
    "%matplotlib inline\n",
    "\"\"\"ipython notebook imports\"\"\"\n",
    "from matplotlib import pyplot as pp\n",
    "from ipywidgets import interact, FloatSlider"
   ]
  },
  {
   "cell_type": "code",
   "execution_count": 4,
   "metadata": {
    "collapsed": true
   },
   "outputs": [],
   "source": [
    "def turning_radius(wheel_base, steering_angle):\n",
    "    \"\"\"Get the turning radius of the car at a certain steering angle.\n",
    "    Args:\n",
    "        wheel_base: Distance between front and back axel in meters.\n",
    "        steering_angle: Steering angle in radians.\n",
    "                        Should probably be limited to [-pi, pi].\n",
    "    Returns:\n",
    "        The turning radius in meters. Return inf if steering_angle is 0.\n",
    "    \"\"\"\n",
    "    if steering_angle == 0.:\n",
    "        return float(\"inf\")\n",
    "    return abs(wheel_base / np.tan(steering_angle))"
   ]
  },
  {
   "cell_type": "code",
   "execution_count": 5,
   "metadata": {
    "collapsed": false
   },
   "outputs": [
    {
     "data": {
      "image/png": "[encoded data removed]",
      "text/plain": [
       "<matplotlib.figure.Figure at 0x7fc8500518d0>"
      ]
     },
     "metadata": {},
     "output_type": "display_data"
    }
   ],
   "source": [
    "def show():\n",
    "    angles = np.linspace(-np.pi / 2., np.pi / 2., num=200)\n",
    "    turning_radii = [turning_radius(DEFAULT_WHEEL_BASE, angle) for angle in angles]\n",
    "    # Clamp for viewing pleasure\n",
    "    turning_radii = np.minimum(turning_radii, 5)\n",
    "    pp.plot(angles, turning_radii)\n",
    "    pp.xlabel(\"Steering Angle\")\n",
    "    pp.ylabel(\"Turning Radius\")\n",
    "show()"
   ]
  },
  {
   "cell_type": "code",
   "execution_count": 6,
   "metadata": {
    "collapsed": false
   },
   "outputs": [],
   "source": [
    "def ack_step_origin(wheel_base, steering_angle, travel_distance):\n",
    "    \"\"\"Move a car starting at the origin along its path.\n",
    "    Coordinate System:\n",
    "        +X is \"to the right\" on paper and \"forward\" for the car.\n",
    "        +Y is \"up\" on paper and \"left turn\" for the car.\n",
    "        Angles proceed CCW.\n",
    "    Args:\n",
    "        wheel_base: Distance between front and back axel in meters.\n",
    "        steering_angle: Steering angle in radians. Positive means left.\n",
    "                        Should probably be limited to [-pi, pi].\n",
    "        travel_distance: Distance the car should travel in meters.\n",
    "    Returns:\n",
    "        An np array of [x, y, heading] (shape=(3,)).\n",
    "    \"\"\"\n",
    "    if steering_angle == 0.:\n",
    "        x, y, heading = travel_distance, 0., 0.\n",
    "        return (x, y, heading)\n",
    "    radius = turning_radius(wheel_base, steering_angle)\n",
    "    # Angle of the turning circle spanned by the arc that the car takes.\n",
    "    travel_angle = travel_distance / radius\n",
    "    # circumference = 2 * np.pi * radius\n",
    "    # travel_angle2 = (travel_distance / circumference) * 2 * np.pi\n",
    "    # assert np.isclose(travel_angle, travel_angle2), [travel_angle, travel_angle2]\n",
    "    x = radius * np.sin(travel_angle)\n",
    "    y = radius * (1 - np.cos(travel_angle))\n",
    "    heading = travel_angle\n",
    "    if steering_angle < 0:\n",
    "        y *= -1\n",
    "        heading *= -1\n",
    "    return np.array([x, y, heading])\n",
    "    "
   ]
  },
  {
   "cell_type": "code",
   "execution_count": 7,
   "metadata": {
    "collapsed": false
   },
   "outputs": [
    {
     "data": {
      "image/png": "[encoded data removed]",
      "text/plain": [
       "<matplotlib.figure.Figure at 0x7fc847ae3410>"
      ]
     },
     "metadata": {},
     "output_type": "display_data"
    }
   ],
   "source": [
    "\"\"\"Plot of a single arc trajectory.\"\"\"\n",
    "def show(steering_angle):\n",
    "    distances = np.linspace(0., 5., num=30)\n",
    "    poses = [ack_step_origin(DEFAULT_WHEEL_BASE, steering_angle, distance) for distance in distances]\n",
    "    poses = np.array(poses)\n",
    "    xs, ys, headings = poses[:,0], poses[:,1], poses[:,2]\n",
    "    pp.gca().set_aspect('equal', adjustable='box')\n",
    "    pp.scatter(xs, ys)\n",
    "\n",
    "interact(show, steering_angle=FloatSlider(np.deg2rad(5), min=-np.deg2rad(45), max=np.deg2rad(45), step=0.001))\n",
    "pass"
   ]
  },
  {
   "cell_type": "code",
   "execution_count": 8,
   "metadata": {
    "collapsed": false
   },
   "outputs": [
    {
     "data": {
      "image/png": "[encoded data removed]",
      "text/plain": [
       "<matplotlib.figure.Figure at 0x7fc847a50790>"
      ]
     },
     "metadata": {},
     "output_type": "display_data"
    }
   ],
   "source": [
    "\"\"\"Plot multiple arcs or wavefronts of many possible arc trajectories.\n",
    "Scrub display_bias to change the visualization.\n",
    "Near 0 shows a few candidate paths.\n",
    "Middling values show all explorable space within some distance.\n",
    "Near 1 shows wavefronts of many possible arc trajectories.\n",
    "\"\"\"\n",
    "def show(display_bias):\n",
    "    maxangle = np.deg2rad(40)\n",
    "    display_count = 100\n",
    "    angles = np.linspace(-maxangle, maxangle, num=max(1, display_bias * display_count))\n",
    "    distances = np.linspace(0, 2, num=max(1, (1 - display_bias) * display_count))\n",
    "    poses = [ack_step_origin(DEFAULT_WHEEL_BASE, angle, distance)\n",
    "            for angle in angles\n",
    "            for distance in distances]\n",
    "    poses = np.array(poses)\n",
    "    xs, ys, headings = poses[:,0], poses[:,1], poses[:,2]\n",
    "    pp.gca().set_aspect('equal', adjustable='box')\n",
    "    pp.scatter(xs, ys)\n",
    "\n",
    "interact(show, display_bias=FloatSlider(0.1, min=0, max=1, step=0.001))\n",
    "pass"
   ]
  },
  {
   "cell_type": "code",
   "execution_count": 9,
   "metadata": {
    "collapsed": true
   },
   "outputs": [],
   "source": [
    "def rotate2d(x, y, angle):\n",
    "    \"\"\"Rotate a 2d coordinate around the origin.\n",
    "    Returns: np array of [x', y']\n",
    "    \"\"\"\n",
    "    return np.array([x * np.cos(angle) - y * np.sin(angle),\n",
    "                     y * np.cos(angle) + x * np.sin(angle)])\n",
    "\n",
    "def ack_step(wheel_base, steering_angle, travel_distance, start_x, start_y, start_heading):\n",
    "    \"\"\"Move a car starting anywhere along its path.\n",
    "    Works by calling ack_step_origin and then transforming to the start.\n",
    "    Coordinate System: Same as ack_step_origin.\n",
    "    Args:\n",
    "        wheel_base: Distance between front and back axel in meters.\n",
    "        steering_angle: Steering angle in radians.\n",
    "                        Should probably be limited to [-pi, pi].\n",
    "        travel_distance: Distance the car should travel in meters.\n",
    "        startx, starty, startheading: Starting pose of the car.\n",
    "    Returns: np array of [x, y, heading].\n",
    "    \"\"\"\n",
    "    x_o, y_o, heading_o = ack_step_origin(wheel_base, steering_angle, travel_distance)\n",
    "    # Rotate and then translate.\n",
    "    x_1, y_1 = rotate2d(x_o, y_o, start_heading)\n",
    "    x, y, heading = x_1 + start_x, y_1 + start_y, heading_o + start_heading\n",
    "    return np.array([x, y, heading])"
   ]
  },
  {
   "cell_type": "code",
   "execution_count": 10,
   "metadata": {
    "collapsed": false
   },
   "outputs": [
    {
     "data": {
      "image/png": "[encoded data removed]",
      "text/plain": [
       "<matplotlib.figure.Figure at 0x7fc85003fb50>"
      ]
     },
     "metadata": {},
     "output_type": "display_data"
    }
   ],
   "source": [
    "\"\"\"Plot of a single arc trajectory from an arbitrary starting position.\"\"\"\n",
    "def show(steering_angle, start_x, start_y, start_heading):\n",
    "    distances = np.linspace(0., 5., num=10)\n",
    "    start = (start_x, start_y, start_heading)\n",
    "    poses = [ack_step(DEFAULT_WHEEL_BASE, steering_angle, distance, *start) for distance in distances]\n",
    "    poses = np.array(poses)\n",
    "    xs, ys, headings = poses[:,0], poses[:,1], poses[:,2]\n",
    "    board_size = 10\n",
    "    pp.xlim([-board_size, board_size])\n",
    "    pp.ylim([-board_size, board_size])\n",
    "    pp.scatter(xs, ys)\n",
    "    pp.gca().set_aspect('equal', adjustable='box')\n",
    "    pp.grid()\n",
    "\n",
    "interact(show,\n",
    "         steering_angle=FloatSlider(np.deg2rad(5), min=-np.deg2rad(45), max=np.deg2rad(45), step=0.001),\n",
    "         start_x=FloatSlider(0, min=-10, max=10, step=0.001),\n",
    "         start_y=FloatSlider(0, min=-10, max=10, step=0.001),\n",
    "         start_heading=FloatSlider(0, min=-np.deg2rad(180), max=np.deg2rad(180), step=0.001))\n",
    "pass"
   ]
  },
  {
   "cell_type": "code",
   "execution_count": 11,
   "metadata": {
    "collapsed": false
   },
   "outputs": [],
   "source": [
    "def path_constant_curve(wheel_base, steering_angle, travel_distance, npoints, start_x, start_y, start_heading):\n",
    "    \"\"\"Create a constant curvature path.\n",
    "    Args:\n",
    "        npoints: Number of points in path. Must be > 2.\n",
    "    npoints: How many points the result should contain.\n",
    "    Returns: np array array of waypoints  (shape=(N,3)).\n",
    "             [[x1, y1, heading1], [x2, y2, heading2], ...]\n",
    "    \"\"\"\n",
    "    assert(npoints > 2)\n",
    "    travel_step = travel_distance / float(npoints-1)\n",
    "    waypoints = []\n",
    "    x, y, heading = start_x, start_y, start_heading\n",
    "    waypoints.append((x, y, heading))\n",
    "    for _ in xrange(npoints-1):\n",
    "        x, y, heading = ack_step(wheel_base, steering_angle, travel_step, x, y, heading)\n",
    "        waypoints.append((x, y, heading))\n",
    "    return np.array(waypoints)"
   ]
  },
  {
   "cell_type": "code",
   "execution_count": 12,
   "metadata": {
    "collapsed": false
   },
   "outputs": [
    {
     "data": {
      "image/png": "[encoded data removed]",
      "text/plain": [
       "<matplotlib.figure.Figure at 0x7fc847b25950>"
      ]
     },
     "metadata": {},
     "output_type": "display_data"
    }
   ],
   "source": [
    "\"\"\"Plot of a constant curvature arc trajectory.\"\"\"\n",
    "def show(steering_angle, travel_distance, npoints, start_x, start_y, start_heading):\n",
    "    distances = np.linspace(0., 5., num=20)\n",
    "    start = (start_x, start_y, start_heading)\n",
    "    npoints = int(npoints)\n",
    "    poses = path_constant_curve(\n",
    "        DEFAULT_WHEEL_BASE, steering_angle, travel_distance,\n",
    "        npoints, start_x, start_y, start_heading)\n",
    "    poses = np.array(poses)\n",
    "    xs, ys = poses[:,0], poses[:,1]\n",
    "    board_size = 10\n",
    "    pp.xlim([-board_size, board_size])\n",
    "    pp.ylim([-board_size, board_size])\n",
    "    pp.scatter(xs, ys)\n",
    "    pp.gca().set_aspect('equal', adjustable='box')\n",
    "    pp.grid()\n",
    "\n",
    "interact(show,\n",
    "         steering_angle=FloatSlider(np.deg2rad(5), min=-np.deg2rad(45), max=np.deg2rad(45), step=0.001),\n",
    "         travel_distance=FloatSlider(5, min=0., max=20., step=0.001),\n",
    "         npoints=FloatSlider(10, min=1, max=100, step=1),\n",
    "         start_x=FloatSlider(0, min=-10, max=10, step=0.001),\n",
    "         start_y=FloatSlider(0, min=-10, max=10, step=0.001),\n",
    "         start_heading=FloatSlider(0, min=-np.deg2rad(180), max=np.deg2rad(180), step=0.001))\n",
    "pass"
   ]
  },
  {
   "cell_type": "code",
   "execution_count": 13,
   "metadata": {
    "collapsed": false
   },
   "outputs": [
    {
     "name": "stdout",
     "output_type": "stream",
     "text": [
      "1000 loops, best of 3: 298 µs per loop\n",
      "100 loops, best of 3: 2.82 ms per loop\n",
      "10 loops, best of 3: 27.9 ms per loop\n"
     ]
    }
   ],
   "source": [
    "\"\"\"How fast is it?\"\"\"\n",
    "%timeit path_constant_curve(DEFAULT_WHEEL_BASE, steering_angle=.1, travel_distance=5., npoints=20, start_x=1, start_y=2, start_heading=3)\n",
    "%timeit path_constant_curve(DEFAULT_WHEEL_BASE, steering_angle=.1, travel_distance=5., npoints=200, start_x=1, start_y=2, start_heading=3)\n",
    "%timeit path_constant_curve(DEFAULT_WHEEL_BASE, steering_angle=.1, travel_distance=5., npoints=2000, start_x=1, start_y=2, start_heading=3)"
   ]
  },
  {
   "cell_type": "code",
   "execution_count": 14,
   "metadata": {
    "collapsed": false
   },
   "outputs": [],
   "source": [
    "def paths_fan(wheel_base, steering_angle_min, steering_angle_max,\n",
    "              npaths, travel_distance, npoints_perpath,\n",
    "              start_x, start_y, start_heading):\n",
    "    \"\"\"Create a bunch of constant curve paths.\n",
    "    Returns: An array of np arrays of waypoints.\n",
    "    \"\"\"\n",
    "    paths = []\n",
    "    for steering_angle in np.linspace(steering_angle_min, steering_angle_max, num=npaths):\n",
    "        paths.append(path_constant_curve(wheel_base,\n",
    "                                        steering_angle, travel_distance, npoints_perpath,\n",
    "                                        start_x, start_y, start_heading))\n",
    "    return paths"
   ]
  },
  {
   "cell_type": "code",
   "execution_count": 15,
   "metadata": {
    "collapsed": false
   },
   "outputs": [
    {
     "data": {
      "image/png": "[encoded data removed]",
      "text/plain": [
       "<matplotlib.figure.Figure at 0x7fc847b03c10>"
      ]
     },
     "metadata": {},
     "output_type": "display_data"
    }
   ],
   "source": [
    "\"\"\"Plot of fan paths.\"\"\"\n",
    "def show(wheel_base, steering_angle_max, npaths, travel_distance, npoints_perpath, start_x, start_y, start_heading):\n",
    "    distance = travel_distance\n",
    "    start = (start_x, start_y, start_heading)\n",
    "    npaths = int(npaths)\n",
    "    npoints_perpath = int(npoints_perpath)\n",
    "    paths = paths_fan(wheel_base,\n",
    "                      -steering_angle_max, steering_angle_max, npaths,\n",
    "                      distance, npoints_perpath, start_x, start_y, start_heading)\n",
    "    poses = np.vstack(paths)\n",
    "    xs, ys = poses[:,0], poses[:,1]\n",
    "    board_size = 2\n",
    "    pp.xlim([-board_size, board_size])\n",
    "    pp.ylim([-board_size, board_size])\n",
    "    pp.scatter(xs, ys)\n",
    "    pp.gca().set_aspect('equal', adjustable='box')\n",
    "    pp.grid()\n",
    "\n",
    "interact(show,\n",
    "         wheel_base=FloatSlider(DEFAULT_WHEEL_BASE, min=0.01, max=1.5, step=0.001),\n",
    "         steering_angle_max=FloatSlider(np.deg2rad(40), min=np.deg2rad(0), max=np.deg2rad(90), step=0.001),\n",
    "         npaths=FloatSlider(10, min=1, max=50, step=1),\n",
    "         travel_distance=FloatSlider(1.6, min=0., max=20., step=0.001),\n",
    "         npoints_perpath=FloatSlider(12, min=1, max=100, step=1),\n",
    "         start_x=FloatSlider(0, min=-10, max=10, step=0.001),\n",
    "         start_y=FloatSlider(0, min=-10, max=10, step=0.001),\n",
    "         start_heading=FloatSlider(0, min=-np.deg2rad(180), max=np.deg2rad(180), step=0.001))\n",
    "pass"
   ]
  },
  {
   "cell_type": "code",
   "execution_count": 16,
   "metadata": {
    "collapsed": false
   },
   "outputs": [],
   "source": [
    "def paths_forking(wheel_base, steering_angle_min, steering_angle_max,\n",
    "              npaths, nfork, step_distance, fork_distance, travel_distance,\n",
    "              start_x, start_y, start_heading):\n",
    "    \"\"\"Create a tree of paths that fork.\n",
    "    Note that this blows up in runtime exponentially. Be careful with the parameters.\n",
    "    Args:\n",
    "        npaths: Number of paths to start with.\n",
    "        nfork: Number of paths stemming from each fork.\n",
    "        step_distance: Distance between each point.\n",
    "        fork_distance: Distance between forks in meters.\n",
    "        travel_distance: Length of each path in meters.\n",
    "    Returns: An array of np arrays of waypoints.\n",
    "    \"\"\"\n",
    "    assert(step_distance > 0)\n",
    "    assert(travel_distance > 0)\n",
    "    assert(fork_distance > 0)\n",
    "    State = collections.namedtuple(\"State\",\n",
    "        [\"steering_angle\", \"waypoints\", \"length\", \"last_fork\"])\n",
    "    # State.waypoints is a list of waypoints.\n",
    "    # A waypoint is [x, y, heading].\n",
    "    # last_fork is the length at which the last fork was.\n",
    "\n",
    "    # States which need to grow.\n",
    "    states = []\n",
    "    # States which are done.\n",
    "    states_done = []\n",
    "    \n",
    "    # Start the first paths.\n",
    "    for steering_angle in np.linspace(steering_angle_min, steering_angle_max, num=npaths):\n",
    "        waypoints = np.array([[start_x, start_y, start_heading]])\n",
    "        states.append(State(steering_angle, waypoints, length=0, last_fork=0))\n",
    "\n",
    "    # Loop until all states have moved to states_done.\n",
    "    while len(states):\n",
    "        last_states = states\n",
    "        states = []\n",
    "        for state in last_states:\n",
    "            done_now = state.length >= travel_distance\n",
    "            fork_now = state.length - state.last_fork >= fork_distance\n",
    "            if done_now:\n",
    "                # Move the state to done.\n",
    "                states_done.append(state)\n",
    "            elif fork_now:\n",
    "                # Fork into new paths with different steering angles.\n",
    "                for steering_angle in np.linspace(steering_angle_min, steering_angle_max, num=nfork):\n",
    "                    states.append(state._replace(\n",
    "                            steering_angle=steering_angle,\n",
    "                            last_fork=state.length))\n",
    "            else:\n",
    "                # Step the path by step_distance.\n",
    "                x, y, heading = state.waypoints[-1]\n",
    "                x, y, heading = ack_step(wheel_base, state.steering_angle, step_distance, x, y, heading)\n",
    "                waypoints_new = np.append(state.waypoints, [[x, y, heading]], axis=0)\n",
    "                state_new = state._replace(\n",
    "                    waypoints=waypoints_new,\n",
    "                    length=state.length + step_distance)\n",
    "                states.append(state_new)\n",
    "                \n",
    "    return [state.waypoints for state in states_done]"
   ]
  },
  {
   "cell_type": "code",
   "execution_count": 17,
   "metadata": {
    "collapsed": false
   },
   "outputs": [
    {
     "data": {
      "image/png": "[encoded data removed]",
      "text/plain": [
       "<matplotlib.figure.Figure at 0x7fc8477517d0>"
      ]
     },
     "metadata": {},
     "output_type": "display_data"
    }
   ],
   "source": [
    "\"\"\"Plot of fan paths.\"\"\"\n",
    "def show(wheel_base, steering_angle_max,\n",
    "              npaths, nfork, step_distance, fork_distance, travel_distance,\n",
    "              start_x, start_y, start_heading):\n",
    "    distance = travel_distance\n",
    "    start = (start_x, start_y, start_heading)\n",
    "    paths = paths_forking(wheel_base, -steering_angle_max, steering_angle_max,\n",
    "              npaths, nfork, step_distance, fork_distance, travel_distance,\n",
    "              start_x, start_y, start_heading)\n",
    "    poses = np.vstack(paths)\n",
    "    xs, ys = poses[:,0], poses[:,1]\n",
    "    board_size = 2\n",
    "    pp.xlim([-board_size, board_size])\n",
    "    pp.ylim([-board_size, board_size])\n",
    "    pp.scatter(xs, ys)\n",
    "    pp.gca().set_aspect('equal', adjustable='box')\n",
    "    pp.grid()\n",
    "\n",
    "interact(show,\n",
    "         wheel_base=FloatSlider(DEFAULT_WHEEL_BASE, min=0.01, max=1.5, step=0.001),\n",
    "         steering_angle_max=FloatSlider(np.deg2rad(40), min=np.deg2rad(0), max=np.deg2rad(90), step=0.001),\n",
    "         npaths=FloatSlider(6, min=1, max=50, step=1),\n",
    "         nfork=FloatSlider(10, min=1, max=20, step=1),\n",
    "         step_distance=FloatSlider(.15, min=.05, max=.75, step=0.001),\n",
    "         fork_distance=FloatSlider(1.28, min=0, max=3, step=0.001),\n",
    "         travel_distance=FloatSlider(2.2, min=0., max=10., step=0.001),\n",
    "         start_x=FloatSlider(-.4, min=-10, max=10, step=0.001),\n",
    "         start_y=FloatSlider(0, min=-10, max=10, step=0.001),\n",
    "         start_heading=FloatSlider(0, min=-np.deg2rad(180), max=np.deg2rad(180), step=0.001))\n",
    "pass"
   ]
  },
  {
   "cell_type": "code",
   "execution_count": null,
   "metadata": {
    "collapsed": true
   },
   "outputs": [],
   "source": []
  }
 ],
 "metadata": {
  "kernelspec": {
   "display_name": "Python 2",
   "language": "python",
   "name": "python2"
  },
  "language_info": {
   "codemirror_mode": {
    "name": "ipython",
    "version": 2
   },
   "file_extension": ".py",
   "mimetype": "text/x-python",
   "name": "python",
   "nbconvert_exporter": "python",
   "pygments_lexer": "ipython2",
   "version": "2.7.10"
  }
 },
 "nbformat": 4,
 "nbformat_minor": 0
}
